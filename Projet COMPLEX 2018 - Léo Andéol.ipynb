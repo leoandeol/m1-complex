{
 "cells": [
  {
   "cell_type": "markdown",
   "metadata": {},
   "source": [
    "# Prérequis\n",
    "J'ai choisi d'utiliser Python, car ce langage gère par nature les grands entiers, et comporte de nombreuses méthodes très pratiques pour les mathématiques"
   ]
  },
  {
   "cell_type": "code",
   "execution_count": 1,
   "metadata": {},
   "outputs": [],
   "source": [
    "import math\n",
    "from time import time\n",
    "import matplotlib.pyplot as plt\n",
    "from random import randrange\n",
    "import numpy as np\n",
    "\n",
    "%matplotlib inline"
   ]
  },
  {
   "cell_type": "markdown",
   "metadata": {},
   "source": [
    "# Exercice 1: Arithmétique dans Zn\n",
    "## Question a\n",
    "Algorithme d'euclide étendu"
   ]
  },
  {
   "cell_type": "code",
   "execution_count": 2,
   "metadata": {},
   "outputs": [],
   "source": [
    "def my_pgcd(a,b):\n",
    "    # algo euclide\n",
    "    r = a % b\n",
    "    while r != 0:\n",
    "        a = b\n",
    "        b = r\n",
    "        r = a % b\n",
    "    return b"
   ]
  },
  {
   "cell_type": "markdown",
   "metadata": {},
   "source": [
    "### Tests\n",
    "Choix des nombres pour essayer tous les cas"
   ]
  },
  {
   "cell_type": "code",
   "execution_count": 3,
   "metadata": {},
   "outputs": [],
   "source": [
    "assert my_pgcd(50,127)==my_pgcd(127,50)\n",
    "assert my_pgcd(1,2)==1\n",
    "assert my_pgcd(2,7)==1\n",
    "assert my_pgcd(3,9)==3\n",
    "assert my_pgcd(121,66)==11"
   ]
  },
  {
   "cell_type": "markdown",
   "metadata": {},
   "source": [
    "## Question b\n",
    "* Définition de l'algorithme d'euclide étendu\n",
    "* Simple appel à l'algorithme d'euclide étendu en vérifiant le retour, et en appliquant le modulo sur u (pour simplifier les tests)"
   ]
  },
  {
   "cell_type": "code",
   "execution_count": 4,
   "metadata": {},
   "outputs": [],
   "source": [
    "def algo_euc_et(a,b):\n",
    "    u = [1,0]\n",
    "    v = [0,1]\n",
    "    r = [a,b]\n",
    "    i = 1\n",
    "    while r[i] != 0:\n",
    "        qi = r[i-1]//r[i]\n",
    "        ri_1 = r[i-1] % r[i]\n",
    "        r.append(ri_1)\n",
    "        ui_1 = u[i-1] - (qi*u[i])\n",
    "        u.append(ui_1)\n",
    "        vi_1 = v[i-1] - (qi*v[i])\n",
    "        v.append(vi_1)\n",
    "        i += 1\n",
    "    return r[i-1],u[i-1],v[i-1]\n",
    "\n",
    "def my_inverse(a,N):\n",
    "    r, u, v = algo_euc_et(a,N)\n",
    "    if r != 1:\n",
    "        return \"Erreur\"\n",
    "    else:\n",
    "        return u%N"
   ]
  },
  {
   "cell_type": "markdown",
   "metadata": {},
   "source": [
    "### Tests"
   ]
  },
  {
   "cell_type": "code",
   "execution_count": 5,
   "metadata": {},
   "outputs": [],
   "source": [
    "assert my_inverse(1,2)==1\n",
    "assert my_inverse(2,3)==2\n",
    "assert my_inverse(3,6)==\"Erreur\""
   ]
  },
  {
   "cell_type": "markdown",
   "metadata": {},
   "source": [
    "##  Question c\n",
    "Nous allons analyser l'évolution du temps de calcul en fonction de l'ordre de l'entier passé en paramètre des deux fonctions précédentes"
   ]
  },
  {
   "cell_type": "code",
   "execution_count": 6,
   "metadata": {},
   "outputs": [],
   "source": [
    "def est_complexity():\n",
    "    t_pgcd = []\n",
    "    t_inv = []\n",
    "    l_k = []\n",
    "    for i in range(2,20):\n",
    "        k = pow(10,i)\n",
    "        l_k.append(k)\n",
    "        start = time()\n",
    "        [my_pgcd(k-1,randrange(pow(10,i-1),k-1)) for _ in range(1000)]\n",
    "        end = time()\n",
    "        t_pgcd.append(end-start)\n",
    "        start = time()\n",
    "        [my_inverse(randrange(pow(10,i-1),k-1),k-1) for _ in range(1000)]\n",
    "        end = time()\n",
    "        t_inv.append(end-start)\n",
    "    plt.plot(l_k, t_pgcd, 'r')\n",
    "    plt.plot(l_k, t_inv, 'b')"
   ]
  },
  {
   "cell_type": "markdown",
   "metadata": {},
   "source": [
    "### Test\n",
    "On constate que la complexité est logarithmique"
   ]
  },
  {
   "cell_type": "code",
   "execution_count": 7,
   "metadata": {},
   "outputs": [
    {
     "data": {
      "image/png": "[encoded data removed]",
      "text/plain": [
       "<Figure size 432x288 with 1 Axes>"
      ]
     },
     "metadata": {
      "needs_background": "light"
     },
     "output_type": "display_data"
    }
   ],
   "source": [
    "est_complexity()"
   ]
  },
  {
   "cell_type": "markdown",
   "metadata": {},
   "source": [
    "## Question d\n",
    "Du à des soucis d'implémentation, j'ai au final choisi de coder une version plus claire de l'exponentiation.\n",
    "\n",
    "_Source : https://en.wikipedia.org/wiki/Modular_exponentiation#Right-to-left_binary_method_"
   ]
  },
  {
   "cell_type": "code",
   "execution_count": 8,
   "metadata": {},
   "outputs": [],
   "source": [
    "def my_expo_mod(g,n,N):\n",
    "    h = 1\n",
    "    while n>0:\n",
    "        if n%2 == 1:\n",
    "            h = (h*g) % N\n",
    "        n = n // 2\n",
    "        g = (g*g) % N\n",
    "    return h"
   ]
  },
  {
   "cell_type": "markdown",
   "metadata": {},
   "source": [
    "### Tests"
   ]
  },
  {
   "cell_type": "code",
   "execution_count": 9,
   "metadata": {},
   "outputs": [],
   "source": [
    "assert my_expo_mod(2,3,5)==3\n",
    "assert my_expo_mod(5,3,5)==0\n",
    "assert my_expo_mod(7,3,11)==2\n",
    "assert my_expo_mod(5,6,7)==1"
   ]
  },
  {
   "cell_type": "markdown",
   "metadata": {},
   "source": [
    "# Exercice 2 : Test naïf et recherche des nombres de Carmichael\n",
    "## Question a"
   ]
  },
  {
   "cell_type": "code",
   "execution_count": 10,
   "metadata": {},
   "outputs": [],
   "source": [
    "def first_test(N):\n",
    "    if N <= 1:\n",
    "        return False\n",
    "    for i in range(2,math.floor(math.sqrt(N))+1):\n",
    "        if N % i == 0:\n",
    "            return False\n",
    "    return True\n"
   ]
  },
  {
   "cell_type": "markdown",
   "metadata": {},
   "source": [
    "### Tests"
   ]
  },
  {
   "cell_type": "code",
   "execution_count": 11,
   "metadata": {},
   "outputs": [],
   "source": [
    "assert first_test(1)==False\n",
    "assert first_test(2)==True\n",
    "assert first_test(7)==True\n",
    "assert first_test(8)==False\n",
    "assert first_test(11)==True\n",
    "assert first_test(121)==False"
   ]
  },
  {
   "cell_type": "markdown",
   "metadata": {
    "collapsed": true
   },
   "source": [
    "## Question b\n",
    "L'algorithme a une complexité binaire de  O(2^bitsize(n))"
   ]
  },
  {
   "cell_type": "markdown",
   "metadata": {},
   "source": [
    "## Question c"
   ]
  },
  {
   "cell_type": "code",
   "execution_count": 12,
   "metadata": {},
   "outputs": [],
   "source": [
    "def count_prime(K=100000):\n",
    "    cnt = 0\n",
    "    for i in range(1,K):\n",
    "        if first_test(i):\n",
    "            cnt += 1\n",
    "    return cnt"
   ]
  },
  {
   "cell_type": "markdown",
   "metadata": {},
   "source": [
    "### Tests\n",
    "_Source : https://primes.utm.edu/howmany.html_"
   ]
  },
  {
   "cell_type": "code",
   "execution_count": 13,
   "metadata": {},
   "outputs": [],
   "source": [
    "assert count_prime(100)==25\n",
    "assert count_prime(1000)==168\n",
    "assert count_prime(10000)==1229\n",
    "assert count_prime(100000)==9592"
   ]
  },
  {
   "cell_type": "markdown",
   "metadata": {},
   "source": [
    "## Question d\n",
    "J'ai pris la liberté de rajouter un s au nom de la fonction pour pouvoir la différencier de la fonction suivante\n",
    "\n",
    "De plus ici et dans la suite du projet on commencera généralement les boucles à 4, les premiers cas étant triviaux pouvant poser probleme pour nos tirages aléatoires."
   ]
  },
  {
   "cell_type": "code",
   "execution_count": 14,
   "metadata": {},
   "outputs": [],
   "source": [
    "def gen_carmichaels(K=100000, p=128):\n",
    "    for n in range(4,K):\n",
    "        if not first_test(n):\n",
    "            test=True\n",
    "            for i in range(p):\n",
    "                a = randrange(2,n)\n",
    "                if my_pgcd(n,a)==1 and pow(a,n-1,n)!=1:\n",
    "                    test=False\n",
    "                    break\n",
    "            if test:\n",
    "                yield n"
   ]
  },
  {
   "cell_type": "markdown",
   "metadata": {},
   "source": [
    "### Tests\n",
    "_Source : https://primes.utm.edu/glossary/page.php?sort=CarmichaelNumber_"
   ]
  },
  {
   "cell_type": "code",
   "execution_count": 15,
   "metadata": {},
   "outputs": [],
   "source": [
    "assert (sum([1 for _ in gen_carmichaels()]))==16"
   ]
  },
  {
   "cell_type": "markdown",
   "metadata": {},
   "source": [
    "## Question e"
   ]
  },
  {
   "cell_type": "code",
   "execution_count": 16,
   "metadata": {},
   "outputs": [],
   "source": [
    "def is_carmichael(n):\n",
    "    for a in range(math.ceil(math.sqrt(n))):\n",
    "        if my_pgcd(a,n)==1 and my_expo_mod(a,n-1,n)!=1:\n",
    "            return False\n",
    "    return True\n",
    "\n",
    "def gen_carmichael(K=100000):\n",
    "    primes = []\n",
    "    for i in range(3,K):\n",
    "        if(first_test(i)):\n",
    "            primes.append(i)\n",
    "    primes1 = np.random.permutation(primes)\n",
    "    primes2 = np.random.permutation(primes)\n",
    "    primes3 = np.random.permutation(primes)\n",
    "    for i in primes1:\n",
    "        for j in primes2:\n",
    "            for k in primes3:\n",
    "                if is_carmichael(i*j*k):\n",
    "                    return i*j*k,i,j,k"
   ]
  },
  {
   "cell_type": "markdown",
   "metadata": {},
   "source": [
    "### Tests\n",
    "Vérification grâce à la source suivante\n",
    "_Source : https://oeis.org/A002997/b002997.txt_"
   ]
  },
  {
   "cell_type": "code",
   "execution_count": 17,
   "metadata": {},
   "outputs": [
    {
     "data": {
      "text/plain": [
       "(172947529, 613, 307, 919)"
      ]
     },
     "execution_count": 17,
     "metadata": {},
     "output_type": "execute_result"
    }
   ],
   "source": [
    "gen_carmichael(K=1000)"
   ]
  },
  {
   "cell_type": "markdown",
   "metadata": {},
   "source": [
    "## Question f\n",
    "Attention la fonction tourne 5 minutes\n",
    "\n",
    "Record = 59"
   ]
  },
  {
   "cell_type": "code",
   "execution_count": 18,
   "metadata": {},
   "outputs": [
    {
     "data": {
      "text/plain": [
       "59"
      ]
     },
     "execution_count": 18,
     "metadata": {},
     "output_type": "execute_result"
    }
   ],
   "source": [
    "trouves = set()\n",
    "debut = time()\n",
    "while (time()-debut)<300:\n",
    "    k,_,_,_ = gen_carmichael(K=1000)\n",
    "    trouves.add(k)\n",
    "len(trouves)"
   ]
  },
  {
   "cell_type": "markdown",
   "metadata": {},
   "source": [
    "## Question g\n",
    "### Question 1\n",
    "\n",
    "* p<q<r\n",
    "* selon le critère de Korselt, si pqr est de carmichael il n'existe pas k tel que k est premier et son carré divise pqr, et pour chaque diviseur premier m de pqr, m-1 divise pqr-1, etc ...\n",
    "* On a donc r-1 divise pqr-1\n",
    "* pqr-1 = (r-1)pq + pq - 1\n",
    "* Donc r-1 divise (r-1)pq _(trivial)_ et pq-1\n",
    "* Donc pq-1 = h(r-1)\n",
    "* hors comme r est premier, r =/= pq\n",
    "* Donc h ne peut être égal à 1 donc h >= 2\n",
    "* Or h est forcément inférieur à p (et q et r) car si h=p on obtient q=r, ce qui est absurde\n",
    "* donc 2 <= h <= p-1\n"
   ]
  },
  {
   "cell_type": "markdown",
   "metadata": {},
   "source": [
    "## Question h\n",
    "On peut chercher :"
   ]
  },
  {
   "cell_type": "code",
   "execution_count": 19,
   "metadata": {
    "scrolled": true
   },
   "outputs": [
    {
     "name": "stdout",
     "output_type": "stream",
     "text": [
      "561 = 3* 11 * 17\n",
      "1105 = 5* 13 * 17\n",
      "2465 = 5* 17 * 29\n",
      "10585 = 5* 29 * 73\n"
     ]
    }
   ],
   "source": [
    "primes = []\n",
    "for i in range(4,100):\n",
    "    if(first_test(i)):\n",
    "        primes.append(i)\n",
    "for i in range(len(primes)):\n",
    "    for j in range(i,len(primes)):\n",
    "        m = primes[i]\n",
    "        n = primes[j]\n",
    "        if is_carmichael(3*m*n):\n",
    "            print(3*m*n,\"=\",\"3*\",m,\"*\",n)\n",
    "for i in range(len(primes)):\n",
    "    for j in range(i,len(primes)):\n",
    "        m = primes[i]\n",
    "        n = primes[j]\n",
    "        if is_carmichael(5*m*n):\n",
    "            print(5*m*n,\"=\",\"5*\",m,\"*\",n)"
   ]
  },
  {
   "cell_type": "markdown",
   "metadata": {},
   "source": [
    "# Exercice 3 : Test de Fermat\n",
    "## Question a"
   ]
  },
  {
   "cell_type": "code",
   "execution_count": 20,
   "metadata": {},
   "outputs": [],
   "source": [
    "def test_fermat(n, p=128):\n",
    "    if n == 2 or n == 3:\n",
    "        return True\n",
    "    if n == 4 or n<=1:\n",
    "        return False\n",
    "    for i in range(p):\n",
    "        a = randrange(2,n)\n",
    "        if my_expo_mod(a,n-1,n)!=1:\n",
    "            return False\n",
    "    return True"
   ]
  },
  {
   "cell_type": "markdown",
   "metadata": {},
   "source": [
    "### Tests"
   ]
  },
  {
   "cell_type": "code",
   "execution_count": 21,
   "metadata": {},
   "outputs": [],
   "source": [
    "assert test_fermat(4)==False\n",
    "assert test_fermat(7)==True\n",
    "assert test_fermat(49)==False\n",
    "assert test_fermat(121)==False\n",
    "assert test_fermat(563)==True"
   ]
  },
  {
   "cell_type": "markdown",
   "metadata": {},
   "source": [
    "## Question b\n",
    "* J'ai besoin en premier d'une simple fonction pour générer des nombres composés pour faire le test"
   ]
  },
  {
   "cell_type": "code",
   "execution_count": 22,
   "metadata": {},
   "outputs": [],
   "source": [
    "def gen_comp(K=100000):\n",
    "    for i in range(3,K):\n",
    "        if not first_test(i):\n",
    "            yield i\n"
   ]
  },
  {
   "cell_type": "markdown",
   "metadata": {},
   "source": [
    "* Ensuite je veux calculer la probabilité de reconnaissance par type de valeur"
   ]
  },
  {
   "cell_type": "code",
   "execution_count": 23,
   "metadata": {},
   "outputs": [],
   "source": [
    "def test_test_fermat(K=100000, N=1000, p=128):\n",
    "    p_car = 0\n",
    "    p_comp = 0\n",
    "    p_rand = 0\n",
    "    car=list(gen_carmichaels(K))\n",
    "    comp=list(gen_comp(K))\n",
    "    for i in range(N):\n",
    "        if test_fermat(int(np.random.choice(car,1)[0])):\n",
    "            p_car += 1/N\n",
    "    for i in range(K):\n",
    "        if test_fermat(int(np.random.choice(comp,1)[0])):\n",
    "            p_comp += 1/N\n",
    "    for i in range(N):\n",
    "        if test_fermat(randrange(3,K),p):\n",
    "            p_rand += 1/N\n",
    "    plt.bar(2,p_car,1,label=\"Carmichael \"+str(p_car*100)+\"%\")\n",
    "    plt.bar(4,p_comp,1,label=\"Composé \"+str(p_comp*100)+\"%\")\n",
    "    plt.bar(6,p_rand,1,label=\"Random \"+str(p_rand*100)+\"%\")\n",
    "    plt.title(\"Probabilité de reconnaissance d'un nombre\")\n",
    "    plt.legend()\n",
    "    plt.show()"
   ]
  },
  {
   "cell_type": "markdown",
   "metadata": {},
   "source": [
    "### Test\n",
    "_Attention, peut être très long à calculer en augmentant K_"
   ]
  },
  {
   "cell_type": "code",
   "execution_count": 24,
   "metadata": {},
   "outputs": [
    {
     "data": {
      "image/png": "[encoded data removed]",
      "text/plain": [
       "<Figure size 432x288 with 1 Axes>"
      ]
     },
     "metadata": {
      "needs_background": "light"
     },
     "output_type": "display_data"
    }
   ],
   "source": [
    "test_test_fermat(K=10000)"
   ]
  },
  {
   "cell_type": "markdown",
   "metadata": {},
   "source": [
    "## Question c"
   ]
  },
  {
   "cell_type": "code",
   "execution_count": 25,
   "metadata": {},
   "outputs": [],
   "source": [
    "def est_proba_err_fermat(p=128):\n",
    "    p = 0\n",
    "    for i in range(3,100000):\n",
    "        f = first_test(i)\n",
    "        g = test_fermat(i,p=128)\n",
    "        if g and not f:\n",
    "            p+=1/100000\n",
    "    return p"
   ]
  },
  {
   "cell_type": "markdown",
   "metadata": {},
   "source": [
    "### Tests"
   ]
  },
  {
   "cell_type": "code",
   "execution_count": 26,
   "metadata": {},
   "outputs": [
    {
     "data": {
      "text/plain": [
       "0"
      ]
     },
     "execution_count": 26,
     "metadata": {},
     "output_type": "execute_result"
    }
   ],
   "source": [
    "est_proba_err_fermat(p=128)"
   ]
  },
  {
   "cell_type": "markdown",
   "metadata": {},
   "source": [
    "# Exercice 4 : Test de Rabin et Miller\n",
    "## Question a"
   ]
  },
  {
   "cell_type": "code",
   "execution_count": 27,
   "metadata": {},
   "outputs": [],
   "source": [
    "def test_miller_rabin(n, T=128):\n",
    "    m = n-1\n",
    "    h = 0\n",
    "    while m%2==0:\n",
    "        h+=1\n",
    "        m=m//2\n",
    "    for i in range(T):\n",
    "        a = randrange(2,n)\n",
    "        b = my_expo_mod(a,m,n)\n",
    "        if b!= 1 and b!= n-1:\n",
    "            j = 1\n",
    "            while j < h and b != n-1:\n",
    "                if (b*b)%n == 1:\n",
    "                    return False\n",
    "                b = (b*b)%n\n",
    "                j = j+1\n",
    "            if b != n-1:\n",
    "                return False\n",
    "    return True"
   ]
  },
  {
   "cell_type": "markdown",
   "metadata": {},
   "source": [
    "## Question b"
   ]
  },
  {
   "cell_type": "code",
   "execution_count": 28,
   "metadata": {},
   "outputs": [],
   "source": [
    "def test_test_miller_rabin(K=100000, N=1000):\n",
    "    p_car = 0\n",
    "    p_comp = 0\n",
    "    p_rand = 0\n",
    "    car=list(gen_carmichaels(K))\n",
    "    comp=list(gen_comp(K))\n",
    "    for i in range(N):\n",
    "        if test_miller_rabin(int(np.random.choice(car,1)[0])):\n",
    "            p_car += 1/N\n",
    "    for i in range(K):\n",
    "        if test_miller_rabin(int(np.random.choice(comp,1)[0])):\n",
    "            p_comp += 1/N\n",
    "    for i in range(N):\n",
    "        if test_miller_rabin(randrange(3,K)):\n",
    "            p_rand += 1/N\n",
    "    plt.bar(2,p_car,1,label=\"Carmichael \"+str(p_car*100)+\"%\")\n",
    "    plt.bar(4,p_comp,1,label=\"Composé \"+str(p_comp*100)+\"%\")\n",
    "    plt.bar(6,p_rand,1,label=\"Random \"+str(p_rand*100)+\"%\")\n",
    "    plt.title(\"Probabilité de reconnaissance d'un nombre\")\n",
    "    plt.legend()\n",
    "    plt.show()"
   ]
  },
  {
   "cell_type": "markdown",
   "metadata": {},
   "source": [
    "### Tests\n",
    "_Attention, peut être très long à calculer en augmentant K_"
   ]
  },
  {
   "cell_type": "code",
   "execution_count": 29,
   "metadata": {},
   "outputs": [
    {
     "data": {
      "image/png": "[encoded data removed]",
      "text/plain": [
       "<Figure size 432x288 with 1 Axes>"
      ]
     },
     "metadata": {
      "needs_background": "light"
     },
     "output_type": "display_data"
    }
   ],
   "source": [
    "test_test_miller_rabin(K=10000)"
   ]
  },
  {
   "cell_type": "markdown",
   "metadata": {},
   "source": [
    "## Question c"
   ]
  },
  {
   "cell_type": "code",
   "execution_count": 30,
   "metadata": {},
   "outputs": [],
   "source": [
    "def est_proba_err_miller_rabin(T=128):\n",
    "    p = 0\n",
    "    for i in range(3,100000):\n",
    "        f = first_test(i)\n",
    "        g = test_miller_rabin(i,T)\n",
    "        if g and not f:\n",
    "            p+=1/100000\n",
    "    return p"
   ]
  },
  {
   "cell_type": "markdown",
   "metadata": {},
   "source": [
    "### Tests"
   ]
  },
  {
   "cell_type": "code",
   "execution_count": 31,
   "metadata": {},
   "outputs": [
    {
     "data": {
      "text/plain": [
       "0"
      ]
     },
     "execution_count": 31,
     "metadata": {},
     "output_type": "execute_result"
    }
   ],
   "source": [
    "est_proba_err_miller_rabin()"
   ]
  },
  {
   "cell_type": "markdown",
   "metadata": {},
   "source": [
    "## Question d"
   ]
  },
  {
   "cell_type": "code",
   "execution_count": 32,
   "metadata": {},
   "outputs": [],
   "source": [
    "def gen_rsa(t):\n",
    "    test = False\n",
    "    while not test:\n",
    "        p,q = randrange(pow(2,t-1),pow(2,t)+1),randrange(pow(2,t-1),pow(2,t)+1)\n",
    "        if test_miller_rabin(p) and test_miller_rabin(q):\n",
    "            test = True\n",
    "    return p*q,p,q"
   ]
  },
  {
   "cell_type": "code",
   "execution_count": 33,
   "metadata": {},
   "outputs": [
    {
     "data": {
      "text/plain": [
       "(316876301563933, 17146729, 18480277)"
      ]
     },
     "execution_count": 33,
     "metadata": {},
     "output_type": "execute_result"
    }
   ],
   "source": [
    "gen_rsa(25)"
   ]
  }
 ],
 "metadata": {
  "kernelspec": {
   "display_name": "Python 3",
   "language": "python",
   "name": "python3"
  },
  "language_info": {
   "codemirror_mode": {
    "name": "ipython",
    "version": 3
   },
   "file_extension": ".py",
   "mimetype": "text/x-python",
   "name": "python",
   "nbconvert_exporter": "python",
   "pygments_lexer": "ipython3",
   "version": "3.6.7"
  }
 },
 "nbformat": 4,
 "nbformat_minor": 2
}
